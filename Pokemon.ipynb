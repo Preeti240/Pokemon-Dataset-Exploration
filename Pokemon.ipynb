{
 "cells": [
  {
   "cell_type": "code",
   "execution_count": 1,
   "metadata": {},
   "outputs": [],
   "source": [
    "import numpy as np\n",
    "import pandas as pd\n",
    "from pandas import Series, DataFrame\n",
    "import seaborn as sns\n",
    "import matplotlib.pyplot as plt\n",
    "\n",
    "sns.set_style('whitegrid')\n",
    "%matplotlib inline"
   ]
  },
  {
   "cell_type": "code",
   "execution_count": 2,
   "metadata": {},
   "outputs": [
    {
     "data": {
      "text/html": [
       "<div>\n",
       "<style scoped>\n",
       "    .dataframe tbody tr th:only-of-type {\n",
       "        vertical-align: middle;\n",
       "    }\n",
       "\n",
       "    .dataframe tbody tr th {\n",
       "        vertical-align: top;\n",
       "    }\n",
       "\n",
       "    .dataframe thead th {\n",
       "        text-align: right;\n",
       "    }\n",
       "</style>\n",
       "<table border=\"1\" class=\"dataframe\">\n",
       "  <thead>\n",
       "    <tr style=\"text-align: right;\">\n",
       "      <th></th>\n",
       "      <th>Pokemon No.</th>\n",
       "      <th>Name</th>\n",
       "      <th>Type 1</th>\n",
       "      <th>Type 2</th>\n",
       "      <th>Max CP</th>\n",
       "      <th>Max HP</th>\n",
       "      <th>Image URL</th>\n",
       "    </tr>\n",
       "  </thead>\n",
       "  <tbody>\n",
       "    <tr>\n",
       "      <th>0</th>\n",
       "      <td>1</td>\n",
       "      <td>Bulbasaur</td>\n",
       "      <td>Grass</td>\n",
       "      <td>Poison</td>\n",
       "      <td>1079</td>\n",
       "      <td>83</td>\n",
       "      <td>http://cdn.bulbagarden.net/upload/thumb/2/21/0...</td>\n",
       "    </tr>\n",
       "    <tr>\n",
       "      <th>1</th>\n",
       "      <td>2</td>\n",
       "      <td>Ivysaur</td>\n",
       "      <td>Grass</td>\n",
       "      <td>Poison</td>\n",
       "      <td>1643</td>\n",
       "      <td>107</td>\n",
       "      <td>http://cdn.bulbagarden.net/upload/thumb/7/73/0...</td>\n",
       "    </tr>\n",
       "    <tr>\n",
       "      <th>2</th>\n",
       "      <td>3</td>\n",
       "      <td>Venusaur</td>\n",
       "      <td>Grass</td>\n",
       "      <td>Poison</td>\n",
       "      <td>2598</td>\n",
       "      <td>138</td>\n",
       "      <td>http://cdn.bulbagarden.net/upload/thumb/a/ae/0...</td>\n",
       "    </tr>\n",
       "    <tr>\n",
       "      <th>3</th>\n",
       "      <td>4</td>\n",
       "      <td>Charmander</td>\n",
       "      <td>Fire</td>\n",
       "      <td>NaN</td>\n",
       "      <td>962</td>\n",
       "      <td>73</td>\n",
       "      <td>http://cdn.bulbagarden.net/upload/thumb/7/73/0...</td>\n",
       "    </tr>\n",
       "    <tr>\n",
       "      <th>4</th>\n",
       "      <td>5</td>\n",
       "      <td>Charmeleon</td>\n",
       "      <td>Fire</td>\n",
       "      <td>NaN</td>\n",
       "      <td>1568</td>\n",
       "      <td>103</td>\n",
       "      <td>http://cdn.bulbagarden.net/upload/thumb/4/4a/0...</td>\n",
       "    </tr>\n",
       "    <tr>\n",
       "      <th>5</th>\n",
       "      <td>6</td>\n",
       "      <td>Charizard</td>\n",
       "      <td>Fire</td>\n",
       "      <td>Flying</td>\n",
       "      <td>2620</td>\n",
       "      <td>135</td>\n",
       "      <td>http://cdn.bulbagarden.net/upload/thumb/7/7e/0...</td>\n",
       "    </tr>\n",
       "    <tr>\n",
       "      <th>6</th>\n",
       "      <td>7</td>\n",
       "      <td>Squirtle</td>\n",
       "      <td>Water</td>\n",
       "      <td>NaN</td>\n",
       "      <td>1015</td>\n",
       "      <td>81</td>\n",
       "      <td>http://cdn.bulbagarden.net/upload/thumb/3/39/0...</td>\n",
       "    </tr>\n",
       "    <tr>\n",
       "      <th>7</th>\n",
       "      <td>8</td>\n",
       "      <td>Wartortle</td>\n",
       "      <td>Water</td>\n",
       "      <td>NaN</td>\n",
       "      <td>1594</td>\n",
       "      <td>105</td>\n",
       "      <td>http://cdn.bulbagarden.net/upload/thumb/0/0c/0...</td>\n",
       "    </tr>\n",
       "    <tr>\n",
       "      <th>8</th>\n",
       "      <td>9</td>\n",
       "      <td>Blastoise</td>\n",
       "      <td>Water</td>\n",
       "      <td>NaN</td>\n",
       "      <td>2560</td>\n",
       "      <td>137</td>\n",
       "      <td>http://cdn.bulbagarden.net/upload/thumb/0/02/0...</td>\n",
       "    </tr>\n",
       "    <tr>\n",
       "      <th>9</th>\n",
       "      <td>10</td>\n",
       "      <td>Caterpie</td>\n",
       "      <td>Bug</td>\n",
       "      <td>NaN</td>\n",
       "      <td>446</td>\n",
       "      <td>83</td>\n",
       "      <td>http://cdn.bulbagarden.net/upload/thumb/5/5d/0...</td>\n",
       "    </tr>\n",
       "  </tbody>\n",
       "</table>\n",
       "</div>"
      ],
      "text/plain": [
       "   Pokemon No.        Name Type 1  Type 2  Max CP  Max HP  \\\n",
       "0            1   Bulbasaur  Grass  Poison    1079      83   \n",
       "1            2     Ivysaur  Grass  Poison    1643     107   \n",
       "2            3    Venusaur  Grass  Poison    2598     138   \n",
       "3            4  Charmander   Fire     NaN     962      73   \n",
       "4            5  Charmeleon   Fire     NaN    1568     103   \n",
       "5            6   Charizard   Fire  Flying    2620     135   \n",
       "6            7    Squirtle  Water     NaN    1015      81   \n",
       "7            8   Wartortle  Water     NaN    1594     105   \n",
       "8            9   Blastoise  Water     NaN    2560     137   \n",
       "9           10    Caterpie    Bug     NaN     446      83   \n",
       "\n",
       "                                           Image URL  \n",
       "0  http://cdn.bulbagarden.net/upload/thumb/2/21/0...  \n",
       "1  http://cdn.bulbagarden.net/upload/thumb/7/73/0...  \n",
       "2  http://cdn.bulbagarden.net/upload/thumb/a/ae/0...  \n",
       "3  http://cdn.bulbagarden.net/upload/thumb/7/73/0...  \n",
       "4  http://cdn.bulbagarden.net/upload/thumb/4/4a/0...  \n",
       "5  http://cdn.bulbagarden.net/upload/thumb/7/7e/0...  \n",
       "6  http://cdn.bulbagarden.net/upload/thumb/3/39/0...  \n",
       "7  http://cdn.bulbagarden.net/upload/thumb/0/0c/0...  \n",
       "8  http://cdn.bulbagarden.net/upload/thumb/0/02/0...  \n",
       "9  http://cdn.bulbagarden.net/upload/thumb/5/5d/0...  "
      ]
     },
     "execution_count": 2,
     "metadata": {},
     "output_type": "execute_result"
    }
   ],
   "source": [
    "#loading the dataset as pokemon_df\n",
    "pokemon_df = pd.read_csv('pokemonGO.csv')\n",
    "\n",
    "#taking a look at the first 10 rows\n",
    "pokemon_df.head(n=10)"
   ]
  },
  {
   "cell_type": "markdown",
   "metadata": {},
   "source": [
    "What are the different types of pokemon?"
   ]
  },
  {
   "cell_type": "code",
   "execution_count": 3,
   "metadata": {},
   "outputs": [
    {
     "name": "stderr",
     "output_type": "stream",
     "text": [
      "E:\\Preeti\\anaconda3\\lib\\site-packages\\seaborn\\categorical.py:3714: UserWarning: The `factorplot` function has been renamed to `catplot`. The original name will be removed in a future release. Please update your code. Note that the default `kind` in `factorplot` (`'point'`) has changed `'strip'` in `catplot`.\n",
      "  warnings.warn(msg)\n",
      "E:\\Preeti\\anaconda3\\lib\\site-packages\\seaborn\\categorical.py:3720: UserWarning: The `size` parameter has been renamed to `height`; please update your code.\n",
      "  warnings.warn(msg, UserWarning)\n",
      "E:\\Preeti\\anaconda3\\lib\\site-packages\\seaborn\\_decorators.py:36: FutureWarning: Pass the following variable as a keyword arg: x. From version 0.12, the only valid positional argument will be `data`, and passing other arguments without an explicit keyword will result in an error or misinterpretation.\n",
      "  warnings.warn(\n",
      "E:\\Preeti\\anaconda3\\lib\\site-packages\\seaborn\\categorical.py:3714: UserWarning: The `factorplot` function has been renamed to `catplot`. The original name will be removed in a future release. Please update your code. Note that the default `kind` in `factorplot` (`'point'`) has changed `'strip'` in `catplot`.\n",
      "  warnings.warn(msg)\n",
      "E:\\Preeti\\anaconda3\\lib\\site-packages\\seaborn\\categorical.py:3720: UserWarning: The `size` parameter has been renamed to `height`; please update your code.\n",
      "  warnings.warn(msg, UserWarning)\n",
      "E:\\Preeti\\anaconda3\\lib\\site-packages\\seaborn\\_decorators.py:36: FutureWarning: Pass the following variable as a keyword arg: x. From version 0.12, the only valid positional argument will be `data`, and passing other arguments without an explicit keyword will result in an error or misinterpretation.\n",
      "  warnings.warn(\n"
     ]
    },
    {
     "data": {
      "text/plain": [
       "<seaborn.axisgrid.FacetGrid at 0x1793860b640>"
      ]
     },
     "execution_count": 3,
     "metadata": {},
     "output_type": "execute_result"
    },
    {
     "data": {
      "image/png": "[encoded data removed]",
      "text/plain": [
       "<Figure size 504x504 with 1 Axes>"
      ]
     },
     "metadata": {
      "needs_background": "light"
     },
     "output_type": "display_data"
    },
    {
     "data": {
      "image/png": "[encoded data removed]",
      "text/plain": [
       "<Figure size 576x576 with 1 Axes>"
      ]
     },
     "metadata": {
      "needs_background": "light"
     },
     "output_type": "display_data"
    }
   ],
   "source": [
    "sns.factorplot('Type 2',data=pokemon_df,kind='count',size=7)\n",
    "sns.factorplot('Type 1',data=pokemon_df,kind='count',size=(8))"
   ]
  },
  {
   "cell_type": "code",
   "execution_count": 4,
   "metadata": {},
   "outputs": [
    {
     "name": "stderr",
     "output_type": "stream",
     "text": [
      "E:\\Preeti\\anaconda3\\lib\\site-packages\\seaborn\\categorical.py:3714: UserWarning: The `factorplot` function has been renamed to `catplot`. The original name will be removed in a future release. Please update your code. Note that the default `kind` in `factorplot` (`'point'`) has changed `'strip'` in `catplot`.\n",
      "  warnings.warn(msg)\n",
      "E:\\Preeti\\anaconda3\\lib\\site-packages\\seaborn\\categorical.py:3720: UserWarning: The `size` parameter has been renamed to `height`; please update your code.\n",
      "  warnings.warn(msg, UserWarning)\n",
      "E:\\Preeti\\anaconda3\\lib\\site-packages\\seaborn\\_decorators.py:36: FutureWarning: Pass the following variable as a keyword arg: x. From version 0.12, the only valid positional argument will be `data`, and passing other arguments without an explicit keyword will result in an error or misinterpretation.\n",
      "  warnings.warn(\n"
     ]
    },
    {
     "data": {
      "text/plain": [
       "<seaborn.axisgrid.FacetGrid at 0x1793d70f910>"
      ]
     },
     "execution_count": 4,
     "metadata": {},
     "output_type": "execute_result"
    },
    {
     "data": {
      "image/png": "[encoded data removed]",
      "text/plain": [
       "<Figure size 791.875x720 with 1 Axes>"
      ]
     },
     "metadata": {
      "needs_background": "light"
     },
     "output_type": "display_data"
    }
   ],
   "source": [
    "sns.factorplot('Type 1', data=pokemon_df, kind='count', hue='Type 2', size=10)"
   ]
  },
  {
   "cell_type": "markdown",
   "metadata": {},
   "source": [
    "As you can see Fairy and Fighting type pokemons don't have a second type, and most of water type pokemons have a second type."
   ]
  },
  {
   "cell_type": "markdown",
   "metadata": {},
   "source": [
    "How many pokemons are there (single-type, double-type)?"
   ]
  },
  {
   "cell_type": "code",
   "execution_count": 5,
   "metadata": {},
   "outputs": [
    {
     "data": {
      "text/plain": [
       "Type 1    151\n",
       "Type 2     67\n",
       "dtype: int64"
      ]
     },
     "execution_count": 5,
     "metadata": {},
     "output_type": "execute_result"
    }
   ],
   "source": [
    "pokemon_df[['Type 1','Type 2']].count()"
   ]
  },
  {
   "cell_type": "markdown",
   "metadata": {},
   "source": [
    "Now let's take a look at battle performances"
   ]
  },
  {
   "cell_type": "code",
   "execution_count": 6,
   "metadata": {},
   "outputs": [
    {
     "data": {
      "text/html": [
       "<div>\n",
       "<style scoped>\n",
       "    .dataframe tbody tr th:only-of-type {\n",
       "        vertical-align: middle;\n",
       "    }\n",
       "\n",
       "    .dataframe tbody tr th {\n",
       "        vertical-align: top;\n",
       "    }\n",
       "\n",
       "    .dataframe thead th {\n",
       "        text-align: right;\n",
       "    }\n",
       "</style>\n",
       "<table border=\"1\" class=\"dataframe\">\n",
       "  <thead>\n",
       "    <tr style=\"text-align: right;\">\n",
       "      <th></th>\n",
       "      <th>Pokemon No.</th>\n",
       "      <th>Name</th>\n",
       "      <th>Type 1</th>\n",
       "      <th>Type 2</th>\n",
       "      <th>Max CP</th>\n",
       "      <th>Max HP</th>\n",
       "      <th>Image URL</th>\n",
       "    </tr>\n",
       "  </thead>\n",
       "  <tbody>\n",
       "    <tr>\n",
       "      <th>149</th>\n",
       "      <td>150</td>\n",
       "      <td>Mewtwo</td>\n",
       "      <td>Psychic</td>\n",
       "      <td>NaN</td>\n",
       "      <td>4174</td>\n",
       "      <td>180</td>\n",
       "      <td>http://cdn.bulbagarden.net/upload/thumb/7/78/1...</td>\n",
       "    </tr>\n",
       "  </tbody>\n",
       "</table>\n",
       "</div>"
      ],
      "text/plain": [
       "     Pokemon No.    Name   Type 1 Type 2  Max CP  Max HP  \\\n",
       "149          150  Mewtwo  Psychic    NaN    4174     180   \n",
       "\n",
       "                                             Image URL  \n",
       "149  http://cdn.bulbagarden.net/upload/thumb/7/78/1...  "
      ]
     },
     "execution_count": 6,
     "metadata": {},
     "output_type": "execute_result"
    }
   ],
   "source": [
    "pokemon_df[pokemon_df['Max CP'] == pokemon_df['Max CP'].max()]"
   ]
  },
  {
   "cell_type": "markdown",
   "metadata": {},
   "source": [
    "As we could've expected Mewtwo is the pokemon with the highest Combat Power in our dataset."
   ]
  },
  {
   "cell_type": "code",
   "execution_count": 7,
   "metadata": {},
   "outputs": [
    {
     "data": {
      "text/html": [
       "<div>\n",
       "<style scoped>\n",
       "    .dataframe tbody tr th:only-of-type {\n",
       "        vertical-align: middle;\n",
       "    }\n",
       "\n",
       "    .dataframe tbody tr th {\n",
       "        vertical-align: top;\n",
       "    }\n",
       "\n",
       "    .dataframe thead th {\n",
       "        text-align: right;\n",
       "    }\n",
       "</style>\n",
       "<table border=\"1\" class=\"dataframe\">\n",
       "  <thead>\n",
       "    <tr style=\"text-align: right;\">\n",
       "      <th></th>\n",
       "      <th>Pokemon No.</th>\n",
       "      <th>Name</th>\n",
       "      <th>Type 1</th>\n",
       "      <th>Type 2</th>\n",
       "      <th>Max CP</th>\n",
       "      <th>Max HP</th>\n",
       "      <th>Image URL</th>\n",
       "    </tr>\n",
       "  </thead>\n",
       "  <tbody>\n",
       "    <tr>\n",
       "      <th>128</th>\n",
       "      <td>129</td>\n",
       "      <td>Magikarp</td>\n",
       "      <td>Water</td>\n",
       "      <td>NaN</td>\n",
       "      <td>264</td>\n",
       "      <td>43</td>\n",
       "      <td>http://cdn.bulbagarden.net/upload/thumb/0/02/1...</td>\n",
       "    </tr>\n",
       "  </tbody>\n",
       "</table>\n",
       "</div>"
      ],
      "text/plain": [
       "     Pokemon No.      Name Type 1 Type 2  Max CP  Max HP  \\\n",
       "128          129  Magikarp  Water    NaN     264      43   \n",
       "\n",
       "                                             Image URL  \n",
       "128  http://cdn.bulbagarden.net/upload/thumb/0/02/1...  "
      ]
     },
     "execution_count": 7,
     "metadata": {},
     "output_type": "execute_result"
    }
   ],
   "source": [
    "pokemon_df[pokemon_df['Max CP'] == pokemon_df['Max CP'].min()]"
   ]
  },
  {
   "cell_type": "code",
   "execution_count": 9,
   "metadata": {},
   "outputs": [
    {
     "data": {
      "text/html": [
       "<div>\n",
       "<style scoped>\n",
       "    .dataframe tbody tr th:only-of-type {\n",
       "        vertical-align: middle;\n",
       "    }\n",
       "\n",
       "    .dataframe tbody tr th {\n",
       "        vertical-align: top;\n",
       "    }\n",
       "\n",
       "    .dataframe thead th {\n",
       "        text-align: right;\n",
       "    }\n",
       "</style>\n",
       "<table border=\"1\" class=\"dataframe\">\n",
       "  <thead>\n",
       "    <tr style=\"text-align: right;\">\n",
       "      <th></th>\n",
       "      <th>Pokemon No.</th>\n",
       "      <th>Name</th>\n",
       "      <th>Type 1</th>\n",
       "      <th>Type 2</th>\n",
       "      <th>Max CP</th>\n",
       "      <th>Max HP</th>\n",
       "      <th>Image URL</th>\n",
       "    </tr>\n",
       "  </thead>\n",
       "  <tbody>\n",
       "    <tr>\n",
       "      <th>49</th>\n",
       "      <td>50</td>\n",
       "      <td>Diglett</td>\n",
       "      <td>Ground</td>\n",
       "      <td>NaN</td>\n",
       "      <td>460</td>\n",
       "      <td>27</td>\n",
       "      <td>http://cdn.bulbagarden.net/upload/thumb/3/31/0...</td>\n",
       "    </tr>\n",
       "  </tbody>\n",
       "</table>\n",
       "</div>"
      ],
      "text/plain": [
       "    Pokemon No.     Name  Type 1 Type 2  Max CP  Max HP  \\\n",
       "49           50  Diglett  Ground    NaN     460      27   \n",
       "\n",
       "                                            Image URL  \n",
       "49  http://cdn.bulbagarden.net/upload/thumb/3/31/0...  "
      ]
     },
     "execution_count": 9,
     "metadata": {},
     "output_type": "execute_result"
    }
   ],
   "source": [
    "pokemon_df[pokemon_df['Max HP'] == pokemon_df['Max HP'].min()]"
   ]
  },
  {
   "cell_type": "code",
   "execution_count": 10,
   "metadata": {},
   "outputs": [
    {
     "data": {
      "text/plain": [
       "113.35099337748345"
      ]
     },
     "execution_count": 10,
     "metadata": {},
     "output_type": "execute_result"
    }
   ],
   "source": [
    "#mean HP value?\n",
    "mean_hp = pokemon_df['Max HP'].mean()\n",
    "mean_hp"
   ]
  },
  {
   "cell_type": "markdown",
   "metadata": {},
   "source": [
    "Let's crop the dataframe into two other dataframes, one for pokemons whose first type is ground and then for those whose second type is ground"
   ]
  },
  {
   "cell_type": "code",
   "execution_count": 11,
   "metadata": {},
   "outputs": [],
   "source": [
    "first_type_ground_df = pokemon_df[pokemon_df['Type 1'] == 'Ground']\n",
    "\n",
    "second_type_ground_df = pokemon_df[pokemon_df['Type 2'] == 'Ground']"
   ]
  },
  {
   "cell_type": "code",
   "execution_count": 12,
   "metadata": {},
   "outputs": [
    {
     "data": {
      "text/plain": [
       "Pokemon No.    8\n",
       "Name           8\n",
       "Type 1         8\n",
       "Type 2         2\n",
       "Max CP         8\n",
       "Max HP         8\n",
       "Image URL      8\n",
       "dtype: int64"
      ]
     },
     "execution_count": 12,
     "metadata": {},
     "output_type": "execute_result"
    }
   ],
   "source": [
    "first_type_ground_df.count()"
   ]
  },
  {
   "cell_type": "code",
   "execution_count": 13,
   "metadata": {},
   "outputs": [
    {
     "data": {
      "text/plain": [
       "Pokemon No.    6\n",
       "Name           6\n",
       "Type 1         6\n",
       "Type 2         6\n",
       "Max CP         6\n",
       "Max HP         6\n",
       "Image URL      6\n",
       "dtype: int64"
      ]
     },
     "execution_count": 13,
     "metadata": {},
     "output_type": "execute_result"
    }
   ],
   "source": [
    "second_type_ground_df.count()"
   ]
  },
  {
   "cell_type": "code",
   "execution_count": 14,
   "metadata": {},
   "outputs": [
    {
     "data": {
      "text/html": [
       "<div>\n",
       "<style scoped>\n",
       "    .dataframe tbody tr th:only-of-type {\n",
       "        vertical-align: middle;\n",
       "    }\n",
       "\n",
       "    .dataframe tbody tr th {\n",
       "        vertical-align: top;\n",
       "    }\n",
       "\n",
       "    .dataframe thead th {\n",
       "        text-align: right;\n",
       "    }\n",
       "</style>\n",
       "<table border=\"1\" class=\"dataframe\">\n",
       "  <thead>\n",
       "    <tr style=\"text-align: right;\">\n",
       "      <th></th>\n",
       "      <th>Pokemon No.</th>\n",
       "      <th>Name</th>\n",
       "      <th>Type 1</th>\n",
       "      <th>Type 2</th>\n",
       "      <th>Max CP</th>\n",
       "      <th>Max HP</th>\n",
       "      <th>Image URL</th>\n",
       "    </tr>\n",
       "  </thead>\n",
       "  <tbody>\n",
       "    <tr>\n",
       "      <th>26</th>\n",
       "      <td>27</td>\n",
       "      <td>Sandshrew</td>\n",
       "      <td>Ground</td>\n",
       "      <td>NaN</td>\n",
       "      <td>804</td>\n",
       "      <td>91</td>\n",
       "      <td>http://cdn.bulbagarden.net/upload/thumb/9/9e/0...</td>\n",
       "    </tr>\n",
       "    <tr>\n",
       "      <th>27</th>\n",
       "      <td>28</td>\n",
       "      <td>Sandslash</td>\n",
       "      <td>Ground</td>\n",
       "      <td>NaN</td>\n",
       "      <td>1823</td>\n",
       "      <td>130</td>\n",
       "      <td>http://cdn.bulbagarden.net/upload/thumb/0/0b/0...</td>\n",
       "    </tr>\n",
       "    <tr>\n",
       "      <th>49</th>\n",
       "      <td>50</td>\n",
       "      <td>Diglett</td>\n",
       "      <td>Ground</td>\n",
       "      <td>NaN</td>\n",
       "      <td>460</td>\n",
       "      <td>27</td>\n",
       "      <td>http://cdn.bulbagarden.net/upload/thumb/3/31/0...</td>\n",
       "    </tr>\n",
       "    <tr>\n",
       "      <th>50</th>\n",
       "      <td>51</td>\n",
       "      <td>Dugtrio</td>\n",
       "      <td>Ground</td>\n",
       "      <td>NaN</td>\n",
       "      <td>1176</td>\n",
       "      <td>67</td>\n",
       "      <td>http://cdn.bulbagarden.net/upload/thumb/e/e5/0...</td>\n",
       "    </tr>\n",
       "    <tr>\n",
       "      <th>103</th>\n",
       "      <td>104</td>\n",
       "      <td>Cubone</td>\n",
       "      <td>Ground</td>\n",
       "      <td>NaN</td>\n",
       "      <td>1013</td>\n",
       "      <td>91</td>\n",
       "      <td>http://cdn.bulbagarden.net/upload/thumb/2/2a/1...</td>\n",
       "    </tr>\n",
       "    <tr>\n",
       "      <th>104</th>\n",
       "      <td>105</td>\n",
       "      <td>Marowak</td>\n",
       "      <td>Ground</td>\n",
       "      <td>NaN</td>\n",
       "      <td>1668</td>\n",
       "      <td>107</td>\n",
       "      <td>http://cdn.bulbagarden.net/upload/thumb/9/98/1...</td>\n",
       "    </tr>\n",
       "    <tr>\n",
       "      <th>110</th>\n",
       "      <td>111</td>\n",
       "      <td>Rhyhorn</td>\n",
       "      <td>Ground</td>\n",
       "      <td>Rock</td>\n",
       "      <td>1190</td>\n",
       "      <td>138</td>\n",
       "      <td>http://cdn.bulbagarden.net/upload/thumb/9/9b/1...</td>\n",
       "    </tr>\n",
       "    <tr>\n",
       "      <th>111</th>\n",
       "      <td>112</td>\n",
       "      <td>Rhydon</td>\n",
       "      <td>Ground</td>\n",
       "      <td>Rock</td>\n",
       "      <td>2259</td>\n",
       "      <td>178</td>\n",
       "      <td>http://cdn.bulbagarden.net/upload/thumb/4/47/1...</td>\n",
       "    </tr>\n",
       "  </tbody>\n",
       "</table>\n",
       "</div>"
      ],
      "text/plain": [
       "     Pokemon No.       Name  Type 1 Type 2  Max CP  Max HP  \\\n",
       "26            27  Sandshrew  Ground    NaN     804      91   \n",
       "27            28  Sandslash  Ground    NaN    1823     130   \n",
       "49            50    Diglett  Ground    NaN     460      27   \n",
       "50            51    Dugtrio  Ground    NaN    1176      67   \n",
       "103          104     Cubone  Ground    NaN    1013      91   \n",
       "104          105    Marowak  Ground    NaN    1668     107   \n",
       "110          111    Rhyhorn  Ground   Rock    1190     138   \n",
       "111          112     Rhydon  Ground   Rock    2259     178   \n",
       "\n",
       "                                             Image URL  \n",
       "26   http://cdn.bulbagarden.net/upload/thumb/9/9e/0...  \n",
       "27   http://cdn.bulbagarden.net/upload/thumb/0/0b/0...  \n",
       "49   http://cdn.bulbagarden.net/upload/thumb/3/31/0...  \n",
       "50   http://cdn.bulbagarden.net/upload/thumb/e/e5/0...  \n",
       "103  http://cdn.bulbagarden.net/upload/thumb/2/2a/1...  \n",
       "104  http://cdn.bulbagarden.net/upload/thumb/9/98/1...  \n",
       "110  http://cdn.bulbagarden.net/upload/thumb/9/9b/1...  \n",
       "111  http://cdn.bulbagarden.net/upload/thumb/4/47/1...  "
      ]
     },
     "execution_count": 14,
     "metadata": {},
     "output_type": "execute_result"
    }
   ],
   "source": [
    "#the dataframe aren't don't have so many rows, so we can take a complete look at their content\n",
    "first_type_ground_df"
   ]
  },
  {
   "cell_type": "code",
   "execution_count": 15,
   "metadata": {},
   "outputs": [
    {
     "data": {
      "text/html": [
       "<div>\n",
       "<style scoped>\n",
       "    .dataframe tbody tr th:only-of-type {\n",
       "        vertical-align: middle;\n",
       "    }\n",
       "\n",
       "    .dataframe tbody tr th {\n",
       "        vertical-align: top;\n",
       "    }\n",
       "\n",
       "    .dataframe thead th {\n",
       "        text-align: right;\n",
       "    }\n",
       "</style>\n",
       "<table border=\"1\" class=\"dataframe\">\n",
       "  <thead>\n",
       "    <tr style=\"text-align: right;\">\n",
       "      <th></th>\n",
       "      <th>Pokemon No.</th>\n",
       "      <th>Name</th>\n",
       "      <th>Type 1</th>\n",
       "      <th>Type 2</th>\n",
       "      <th>Max CP</th>\n",
       "      <th>Max HP</th>\n",
       "      <th>Image URL</th>\n",
       "    </tr>\n",
       "  </thead>\n",
       "  <tbody>\n",
       "    <tr>\n",
       "      <th>30</th>\n",
       "      <td>31</td>\n",
       "      <td>Nidoqueen</td>\n",
       "      <td>Poison</td>\n",
       "      <td>Ground</td>\n",
       "      <td>2502</td>\n",
       "      <td>154</td>\n",
       "      <td>http://cdn.bulbagarden.net/upload/thumb/b/bf/0...</td>\n",
       "    </tr>\n",
       "    <tr>\n",
       "      <th>33</th>\n",
       "      <td>34</td>\n",
       "      <td>Nidoking</td>\n",
       "      <td>Poison</td>\n",
       "      <td>Ground</td>\n",
       "      <td>2492</td>\n",
       "      <td>140</td>\n",
       "      <td>http://cdn.bulbagarden.net/upload/thumb/c/c6/0...</td>\n",
       "    </tr>\n",
       "    <tr>\n",
       "      <th>73</th>\n",
       "      <td>74</td>\n",
       "      <td>Geodude</td>\n",
       "      <td>Rock</td>\n",
       "      <td>Ground</td>\n",
       "      <td>855</td>\n",
       "      <td>75</td>\n",
       "      <td>http://cdn.bulbagarden.net/upload/thumb/9/98/0...</td>\n",
       "    </tr>\n",
       "    <tr>\n",
       "      <th>74</th>\n",
       "      <td>75</td>\n",
       "      <td>Graveler</td>\n",
       "      <td>Rock</td>\n",
       "      <td>Ground</td>\n",
       "      <td>1443</td>\n",
       "      <td>99</td>\n",
       "      <td>http://cdn.bulbagarden.net/upload/thumb/7/75/0...</td>\n",
       "    </tr>\n",
       "    <tr>\n",
       "      <th>75</th>\n",
       "      <td>76</td>\n",
       "      <td>Golem</td>\n",
       "      <td>Rock</td>\n",
       "      <td>Ground</td>\n",
       "      <td>2319</td>\n",
       "      <td>138</td>\n",
       "      <td>http://cdn.bulbagarden.net/upload/thumb/f/f2/0...</td>\n",
       "    </tr>\n",
       "    <tr>\n",
       "      <th>94</th>\n",
       "      <td>95</td>\n",
       "      <td>Onix</td>\n",
       "      <td>Rock</td>\n",
       "      <td>Ground</td>\n",
       "      <td>863</td>\n",
       "      <td>67</td>\n",
       "      <td>http://cdn.bulbagarden.net/upload/thumb/9/9a/0...</td>\n",
       "    </tr>\n",
       "  </tbody>\n",
       "</table>\n",
       "</div>"
      ],
      "text/plain": [
       "    Pokemon No.       Name  Type 1  Type 2  Max CP  Max HP  \\\n",
       "30           31  Nidoqueen  Poison  Ground    2502     154   \n",
       "33           34   Nidoking  Poison  Ground    2492     140   \n",
       "73           74    Geodude    Rock  Ground     855      75   \n",
       "74           75   Graveler    Rock  Ground    1443      99   \n",
       "75           76      Golem    Rock  Ground    2319     138   \n",
       "94           95       Onix    Rock  Ground     863      67   \n",
       "\n",
       "                                            Image URL  \n",
       "30  http://cdn.bulbagarden.net/upload/thumb/b/bf/0...  \n",
       "33  http://cdn.bulbagarden.net/upload/thumb/c/c6/0...  \n",
       "73  http://cdn.bulbagarden.net/upload/thumb/9/98/0...  \n",
       "74  http://cdn.bulbagarden.net/upload/thumb/7/75/0...  \n",
       "75  http://cdn.bulbagarden.net/upload/thumb/f/f2/0...  \n",
       "94  http://cdn.bulbagarden.net/upload/thumb/9/9a/0...  "
      ]
     },
     "execution_count": 15,
     "metadata": {},
     "output_type": "execute_result"
    }
   ],
   "source": [
    "second_type_ground_df"
   ]
  },
  {
   "cell_type": "code",
   "execution_count": 16,
   "metadata": {},
   "outputs": [
    {
     "data": {
      "text/plain": [
       "<matplotlib.lines.Line2D at 0x1793dc0fc10>"
      ]
     },
     "execution_count": 16,
     "metadata": {},
     "output_type": "execute_result"
    },
    {
     "data": {
      "image/png": "[encoded data removed]",
      "text/plain": [
       "<Figure size 864x432 with 1 Axes>"
      ]
     },
     "metadata": {
      "needs_background": "light"
     },
     "output_type": "display_data"
    },
    {
     "data": {
      "image/png": "[encoded data removed]",
      "text/plain": [
       "<Figure size 864x360 with 1 Axes>"
      ]
     },
     "metadata": {
      "needs_background": "light"
     },
     "output_type": "display_data"
    }
   ],
   "source": [
    "#first dataframe\n",
    "first_type_ground_df.plot(x='Name',y='Max HP',marker='o',figsize=(12,6),linestyle='--')\n",
    "#setting the title of the dataframe\n",
    "plt.title('Max HP pokemons whose first type is Ground')\n",
    "#setting the y axis label\n",
    "plt.ylabel('Max HP')\n",
    "plt.axhline(mean_hp,color='red',linewidth=2)\n",
    "\n",
    "second_type_ground_df.plot(x='Name', y='Max HP', marker='o',figsize=(12,5),linestyle='--')\n",
    "#setting the title of the dataframe\n",
    "plt.title('Max HP for pokemons whose second type is Ground')\n",
    "#setting the y axis label\n",
    "plt.ylabel('Max HP')\n",
    "plt.axhline(mean_hp,color='red')"
   ]
  },
  {
   "cell_type": "markdown",
   "metadata": {},
   "source": [
    "As you can see only 3 pokemons whose first type is ground have a Max HP higher than the average."
   ]
  },
  {
   "cell_type": "markdown",
   "metadata": {},
   "source": [
    "As to double-type pokemons whose second type is Ground, we have an even distribution. 3 pokemons are above average and 3 pokemons are below average."
   ]
  },
  {
   "cell_type": "markdown",
   "metadata": {},
   "source": [
    "Overall we have 8 ground type pokemons whose Max HP is below average and 6 whose Max HP is above average. The difference is very small, therefore we can only conclude that being a ground type pokemon gives you a chance to have a low Max HP. "
   ]
  },
  {
   "cell_type": "code",
   "execution_count": 17,
   "metadata": {},
   "outputs": [
    {
     "data": {
      "text/plain": [
       "1637.291390728477"
      ]
     },
     "execution_count": 17,
     "metadata": {},
     "output_type": "execute_result"
    }
   ],
   "source": [
    "#mean CP\n",
    "mean_cp = pokemon_df['Max CP'].mean()\n",
    "mean_cp"
   ]
  },
  {
   "cell_type": "code",
   "execution_count": 18,
   "metadata": {},
   "outputs": [],
   "source": [
    "#creating a dataframe containing the strongest pokemons\n",
    "strong_pokemon_df = pokemon_df[pokemon_df['Max CP'] >= mean_cp]\n",
    "strong_pokemon_df = strong_pokemon_df[strong_pokemon_df['Max HP'] <= mean_hp]"
   ]
  },
  {
   "cell_type": "code",
   "execution_count": 19,
   "metadata": {},
   "outputs": [
    {
     "data": {
      "text/html": [
       "<div>\n",
       "<style scoped>\n",
       "    .dataframe tbody tr th:only-of-type {\n",
       "        vertical-align: middle;\n",
       "    }\n",
       "\n",
       "    .dataframe tbody tr th {\n",
       "        vertical-align: top;\n",
       "    }\n",
       "\n",
       "    .dataframe thead th {\n",
       "        text-align: right;\n",
       "    }\n",
       "</style>\n",
       "<table border=\"1\" class=\"dataframe\">\n",
       "  <thead>\n",
       "    <tr style=\"text-align: right;\">\n",
       "      <th></th>\n",
       "      <th>Pokemon No.</th>\n",
       "      <th>Name</th>\n",
       "      <th>Type 1</th>\n",
       "      <th>Type 2</th>\n",
       "      <th>Max CP</th>\n",
       "      <th>Max HP</th>\n",
       "      <th>Image URL</th>\n",
       "    </tr>\n",
       "  </thead>\n",
       "  <tbody>\n",
       "    <tr>\n",
       "      <th>1</th>\n",
       "      <td>2</td>\n",
       "      <td>Ivysaur</td>\n",
       "      <td>Grass</td>\n",
       "      <td>Poison</td>\n",
       "      <td>1643</td>\n",
       "      <td>107</td>\n",
       "      <td>http://cdn.bulbagarden.net/upload/thumb/7/73/0...</td>\n",
       "    </tr>\n",
       "    <tr>\n",
       "      <th>23</th>\n",
       "      <td>24</td>\n",
       "      <td>Arbok</td>\n",
       "      <td>Poison</td>\n",
       "      <td>NaN</td>\n",
       "      <td>1779</td>\n",
       "      <td>107</td>\n",
       "      <td>http://cdn.bulbagarden.net/upload/thumb/c/cd/0...</td>\n",
       "    </tr>\n",
       "    <tr>\n",
       "      <th>25</th>\n",
       "      <td>26</td>\n",
       "      <td>Raichu</td>\n",
       "      <td>Electric</td>\n",
       "      <td>NaN</td>\n",
       "      <td>2042</td>\n",
       "      <td>107</td>\n",
       "      <td>http://cdn.bulbagarden.net/upload/thumb/8/88/0...</td>\n",
       "    </tr>\n",
       "    <tr>\n",
       "      <th>43</th>\n",
       "      <td>44</td>\n",
       "      <td>Gloom</td>\n",
       "      <td>Grass</td>\n",
       "      <td>Poison</td>\n",
       "      <td>1701</td>\n",
       "      <td>107</td>\n",
       "      <td>http://cdn.bulbagarden.net/upload/thumb/2/2a/0...</td>\n",
       "    </tr>\n",
       "    <tr>\n",
       "      <th>46</th>\n",
       "      <td>47</td>\n",
       "      <td>Parasect</td>\n",
       "      <td>Bug</td>\n",
       "      <td>Grass</td>\n",
       "      <td>1759</td>\n",
       "      <td>107</td>\n",
       "      <td>http://cdn.bulbagarden.net/upload/thumb/8/80/0...</td>\n",
       "    </tr>\n",
       "    <tr>\n",
       "      <th>64</th>\n",
       "      <td>65</td>\n",
       "      <td>Alakazam</td>\n",
       "      <td>Psychic</td>\n",
       "      <td>NaN</td>\n",
       "      <td>1826</td>\n",
       "      <td>99</td>\n",
       "      <td>http://cdn.bulbagarden.net/upload/thumb/c/cc/0...</td>\n",
       "    </tr>\n",
       "    <tr>\n",
       "      <th>81</th>\n",
       "      <td>82</td>\n",
       "      <td>Magneton</td>\n",
       "      <td>Electric</td>\n",
       "      <td>Steel</td>\n",
       "      <td>1893</td>\n",
       "      <td>91</td>\n",
       "      <td>http://cdn.bulbagarden.net/upload/thumb/7/72/0...</td>\n",
       "    </tr>\n",
       "    <tr>\n",
       "      <th>84</th>\n",
       "      <td>85</td>\n",
       "      <td>Dodrio</td>\n",
       "      <td>Normal</td>\n",
       "      <td>Flying</td>\n",
       "      <td>1849</td>\n",
       "      <td>107</td>\n",
       "      <td>http://cdn.bulbagarden.net/upload/thumb/9/93/0...</td>\n",
       "    </tr>\n",
       "    <tr>\n",
       "      <th>90</th>\n",
       "      <td>91</td>\n",
       "      <td>Cloyster</td>\n",
       "      <td>Water</td>\n",
       "      <td>Ice</td>\n",
       "      <td>2067</td>\n",
       "      <td>91</td>\n",
       "      <td>http://cdn.bulbagarden.net/upload/thumb/1/1d/0...</td>\n",
       "    </tr>\n",
       "    <tr>\n",
       "      <th>93</th>\n",
       "      <td>94</td>\n",
       "      <td>Gengar</td>\n",
       "      <td>Ghost</td>\n",
       "      <td>Poison</td>\n",
       "      <td>2093</td>\n",
       "      <td>107</td>\n",
       "      <td>http://cdn.bulbagarden.net/upload/thumb/c/c6/0...</td>\n",
       "    </tr>\n",
       "    <tr>\n",
       "      <th>98</th>\n",
       "      <td>99</td>\n",
       "      <td>Kingler</td>\n",
       "      <td>Water</td>\n",
       "      <td>NaN</td>\n",
       "      <td>1836</td>\n",
       "      <td>99</td>\n",
       "      <td>http://cdn.bulbagarden.net/upload/thumb/7/71/0...</td>\n",
       "    </tr>\n",
       "    <tr>\n",
       "      <th>100</th>\n",
       "      <td>101</td>\n",
       "      <td>Electrode</td>\n",
       "      <td>Electric</td>\n",
       "      <td>NaN</td>\n",
       "      <td>1657</td>\n",
       "      <td>107</td>\n",
       "      <td>http://cdn.bulbagarden.net/upload/thumb/8/84/1...</td>\n",
       "    </tr>\n",
       "    <tr>\n",
       "      <th>104</th>\n",
       "      <td>105</td>\n",
       "      <td>Marowak</td>\n",
       "      <td>Ground</td>\n",
       "      <td>NaN</td>\n",
       "      <td>1668</td>\n",
       "      <td>107</td>\n",
       "      <td>http://cdn.bulbagarden.net/upload/thumb/9/98/1...</td>\n",
       "    </tr>\n",
       "    <tr>\n",
       "      <th>116</th>\n",
       "      <td>117</td>\n",
       "      <td>Seadra</td>\n",
       "      <td>Water</td>\n",
       "      <td>NaN</td>\n",
       "      <td>1725</td>\n",
       "      <td>99</td>\n",
       "      <td>http://cdn.bulbagarden.net/upload/thumb/2/26/1...</td>\n",
       "    </tr>\n",
       "    <tr>\n",
       "      <th>120</th>\n",
       "      <td>121</td>\n",
       "      <td>Starmie</td>\n",
       "      <td>Water</td>\n",
       "      <td>Psychic</td>\n",
       "      <td>2197</td>\n",
       "      <td>107</td>\n",
       "      <td>http://cdn.bulbagarden.net/upload/thumb/c/cd/1...</td>\n",
       "    </tr>\n",
       "    <tr>\n",
       "      <th>140</th>\n",
       "      <td>141</td>\n",
       "      <td>Kabutops</td>\n",
       "      <td>Rock</td>\n",
       "      <td>Water</td>\n",
       "      <td>2145</td>\n",
       "      <td>107</td>\n",
       "      <td>http://cdn.bulbagarden.net/upload/thumb/2/29/1...</td>\n",
       "    </tr>\n",
       "    <tr>\n",
       "      <th>147</th>\n",
       "      <td>148</td>\n",
       "      <td>Dragonair</td>\n",
       "      <td>Dragon</td>\n",
       "      <td>NaN</td>\n",
       "      <td>1760</td>\n",
       "      <td>108</td>\n",
       "      <td>http://cdn.bulbagarden.net/upload/thumb/9/93/1...</td>\n",
       "    </tr>\n",
       "  </tbody>\n",
       "</table>\n",
       "</div>"
      ],
      "text/plain": [
       "     Pokemon No.       Name    Type 1   Type 2  Max CP  Max HP  \\\n",
       "1              2    Ivysaur     Grass   Poison    1643     107   \n",
       "23            24      Arbok    Poison      NaN    1779     107   \n",
       "25            26     Raichu  Electric      NaN    2042     107   \n",
       "43            44      Gloom     Grass   Poison    1701     107   \n",
       "46            47   Parasect       Bug    Grass    1759     107   \n",
       "64            65   Alakazam   Psychic      NaN    1826      99   \n",
       "81            82   Magneton  Electric    Steel    1893      91   \n",
       "84            85     Dodrio    Normal   Flying    1849     107   \n",
       "90            91   Cloyster     Water      Ice    2067      91   \n",
       "93            94     Gengar     Ghost   Poison    2093     107   \n",
       "98            99    Kingler     Water      NaN    1836      99   \n",
       "100          101  Electrode  Electric      NaN    1657     107   \n",
       "104          105    Marowak    Ground      NaN    1668     107   \n",
       "116          117     Seadra     Water      NaN    1725      99   \n",
       "120          121    Starmie     Water  Psychic    2197     107   \n",
       "140          141   Kabutops      Rock    Water    2145     107   \n",
       "147          148  Dragonair    Dragon      NaN    1760     108   \n",
       "\n",
       "                                             Image URL  \n",
       "1    http://cdn.bulbagarden.net/upload/thumb/7/73/0...  \n",
       "23   http://cdn.bulbagarden.net/upload/thumb/c/cd/0...  \n",
       "25   http://cdn.bulbagarden.net/upload/thumb/8/88/0...  \n",
       "43   http://cdn.bulbagarden.net/upload/thumb/2/2a/0...  \n",
       "46   http://cdn.bulbagarden.net/upload/thumb/8/80/0...  \n",
       "64   http://cdn.bulbagarden.net/upload/thumb/c/cc/0...  \n",
       "81   http://cdn.bulbagarden.net/upload/thumb/7/72/0...  \n",
       "84   http://cdn.bulbagarden.net/upload/thumb/9/93/0...  \n",
       "90   http://cdn.bulbagarden.net/upload/thumb/1/1d/0...  \n",
       "93   http://cdn.bulbagarden.net/upload/thumb/c/c6/0...  \n",
       "98   http://cdn.bulbagarden.net/upload/thumb/7/71/0...  \n",
       "100  http://cdn.bulbagarden.net/upload/thumb/8/84/1...  \n",
       "104  http://cdn.bulbagarden.net/upload/thumb/9/98/1...  \n",
       "116  http://cdn.bulbagarden.net/upload/thumb/2/26/1...  \n",
       "120  http://cdn.bulbagarden.net/upload/thumb/c/cd/1...  \n",
       "140  http://cdn.bulbagarden.net/upload/thumb/2/29/1...  \n",
       "147  http://cdn.bulbagarden.net/upload/thumb/9/93/1...  "
      ]
     },
     "execution_count": 19,
     "metadata": {},
     "output_type": "execute_result"
    }
   ],
   "source": [
    "strong_pokemon_df"
   ]
  },
  {
   "cell_type": "code",
   "execution_count": 20,
   "metadata": {},
   "outputs": [
    {
     "data": {
      "text/plain": [
       "Pokemon No.    17\n",
       "Name           17\n",
       "Type 1         17\n",
       "Type 2          9\n",
       "Max CP         17\n",
       "Max HP         17\n",
       "Image URL      17\n",
       "dtype: int64"
      ]
     },
     "execution_count": 20,
     "metadata": {},
     "output_type": "execute_result"
    }
   ],
   "source": [
    "strong_pokemon_df.count()"
   ]
  },
  {
   "cell_type": "markdown",
   "metadata": {},
   "source": [
    "We have in total 17 pokemons that can compete for the strongest pokemon title. Now let's repeat the same process again in order to increase competitivity."
   ]
  },
  {
   "cell_type": "code",
   "execution_count": 21,
   "metadata": {},
   "outputs": [],
   "source": [
    "mean_hp2 = strong_pokemon_df['Max HP'].mean()\n",
    "mean_cp2 = strong_pokemon_df['Max CP'].mean()"
   ]
  },
  {
   "cell_type": "code",
   "execution_count": 22,
   "metadata": {},
   "outputs": [],
   "source": [
    "strong_pokemon_df = strong_pokemon_df[strong_pokemon_df['Max CP'] >= mean_cp2]\n",
    "strong_pokemon_df = strong_pokemon_df[strong_pokemon_df['Max HP'] <= mean_hp2]"
   ]
  },
  {
   "cell_type": "code",
   "execution_count": 23,
   "metadata": {},
   "outputs": [
    {
     "data": {
      "text/html": [
       "<div>\n",
       "<style scoped>\n",
       "    .dataframe tbody tr th:only-of-type {\n",
       "        vertical-align: middle;\n",
       "    }\n",
       "\n",
       "    .dataframe tbody tr th {\n",
       "        vertical-align: top;\n",
       "    }\n",
       "\n",
       "    .dataframe thead th {\n",
       "        text-align: right;\n",
       "    }\n",
       "</style>\n",
       "<table border=\"1\" class=\"dataframe\">\n",
       "  <thead>\n",
       "    <tr style=\"text-align: right;\">\n",
       "      <th></th>\n",
       "      <th>Pokemon No.</th>\n",
       "      <th>Name</th>\n",
       "      <th>Type 1</th>\n",
       "      <th>Type 2</th>\n",
       "      <th>Max CP</th>\n",
       "      <th>Max HP</th>\n",
       "      <th>Image URL</th>\n",
       "    </tr>\n",
       "  </thead>\n",
       "  <tbody>\n",
       "    <tr>\n",
       "      <th>81</th>\n",
       "      <td>82</td>\n",
       "      <td>Magneton</td>\n",
       "      <td>Electric</td>\n",
       "      <td>Steel</td>\n",
       "      <td>1893</td>\n",
       "      <td>91</td>\n",
       "      <td>http://cdn.bulbagarden.net/upload/thumb/7/72/0...</td>\n",
       "    </tr>\n",
       "    <tr>\n",
       "      <th>90</th>\n",
       "      <td>91</td>\n",
       "      <td>Cloyster</td>\n",
       "      <td>Water</td>\n",
       "      <td>Ice</td>\n",
       "      <td>2067</td>\n",
       "      <td>91</td>\n",
       "      <td>http://cdn.bulbagarden.net/upload/thumb/1/1d/0...</td>\n",
       "    </tr>\n",
       "  </tbody>\n",
       "</table>\n",
       "</div>"
      ],
      "text/plain": [
       "    Pokemon No.      Name    Type 1 Type 2  Max CP  Max HP  \\\n",
       "81           82  Magneton  Electric  Steel    1893      91   \n",
       "90           91  Cloyster     Water    Ice    2067      91   \n",
       "\n",
       "                                            Image URL  \n",
       "81  http://cdn.bulbagarden.net/upload/thumb/7/72/0...  \n",
       "90  http://cdn.bulbagarden.net/upload/thumb/1/1d/0...  "
      ]
     },
     "execution_count": 23,
     "metadata": {},
     "output_type": "execute_result"
    }
   ],
   "source": [
    "#new dataframe\n",
    "strong_pokemon_df"
   ]
  },
  {
   "cell_type": "code",
   "execution_count": null,
   "metadata": {},
   "outputs": [],
   "source": []
  }
 ],
 "metadata": {
  "kernelspec": {
   "display_name": "Python 3",
   "language": "python",
   "name": "python3"
  },
  "language_info": {
   "codemirror_mode": {
    "name": "ipython",
    "version": 3
   },
   "file_extension": ".py",
   "mimetype": "text/x-python",
   "name": "python",
   "nbconvert_exporter": "python",
   "pygments_lexer": "ipython3",
   "version": "3.8.8"
  }
 },
 "nbformat": 4,
 "nbformat_minor": 1
}
